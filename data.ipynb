{
 "cells": [
  {
   "attachments": {},
   "cell_type": "markdown",
   "metadata": {},
   "source": [
    "### How to save OpenAI embeddings in database"
   ]
  },
  {
   "attachments": {},
   "cell_type": "markdown",
   "metadata": {},
   "source": [
    "prepare apikey and secrets"
   ]
  },
  {
   "cell_type": "code",
   "execution_count": 1,
   "metadata": {},
   "outputs": [],
   "source": [
    "import os\n",
    "os.environ[\"PINECONE_ENVIRONMENT\"]=\"XXXXXX\"\n",
    "os.environ[\"PINECONE_API_KEY\"]=\"XXXXXX\"\n",
    "os.environ[\"OPENAI_API_KEY\"]=\"XXXXXX\""
   ]
  },
  {
   "cell_type": "code",
   "execution_count": 2,
   "metadata": {},
   "outputs": [],
   "source": [
    "from langchain.document_loaders import DirectoryLoader,TextLoader\n",
    "from langchain.text_splitter import CharacterTextSplitter\n",
    "from langchain.vectorstores import Pinecone\n",
    "from langchain.chat_models import ChatOpenAI as OpenAI"
   ]
  },
  {
   "attachments": {},
   "cell_type": "markdown",
   "metadata": {},
   "source": [
    "#### Read directory files, load them and split them in chunk to overcome token limit"
   ]
  },
  {
   "cell_type": "code",
   "execution_count": 3,
   "metadata": {},
   "outputs": [
    {
     "name": "stderr",
     "output_type": "stream",
     "text": [
      "Created a chunk of size 1149, which is longer than the specified 1000\n",
      "Created a chunk of size 1456, which is longer than the specified 1000\n"
     ]
    },
    {
     "data": {
      "text/plain": [
       "[Document(page_content='Homelessness is a complex social issue with many interrelated causes and effects. In this essay,\\nwe will explore some of the most common causes of homelessness, as well as the short-term and\\nlong-term effects that homelessness can have on individuals, families, and communities.', metadata={'source': './homelessness.txt'}),\n",
       " Document(page_content='Causes of Homelessness:\\n1. Lack of Affordable Housing: The most significant cause of homelessness is a lack of affordable \\n   housing. As housing prices rise and wages stagnate, many low-income individuals and families cannot \\n   afford to rent or buy a home, forcing them to live in substandard conditions or become homeless.\\n2. Poverty: Poverty is another significant cause of homelessness. Individuals living in poverty \\n   often have limited access to education, healthcare, and job opportunities, making it difficult to\\n   achieve financial stability and secure housing.\\n3. Mental Illness: Mental illness, particularly severe mental illness, can make it challenging for \\n   individuals to maintain stable housing. Many people experiencing homelessness have mental health \\n   issues, and the lack of support services and stigma surrounding mental illness can make it \\n   difficult for them to receive the care they need.\\n4. Substance Abuse: Substance abuse is another common cause of homelessness. People who struggle with \\n   addiction often lose their jobs, relationships, and homes, leaving them with few resources to \\n   rebuild their lives.', metadata={'source': './homelessness.txt'}),\n",
       " Document(page_content=\"Effects of Homelessness:\\n1. Physical Health: Homelessness can have a profound impact on an individual's physical health. \\n   Without access to adequate shelter, food, and healthcare, people experiencing homelessness are \\n   more likely to suffer from chronic illnesses, infections, and injuries.\\n2. Mental Health: Homelessness can also have a significant impact on mental health. The stress and \\n   trauma of being homeless can lead to depression, anxiety, and other mental health issues, \\n   particularly among children and youth.\\n3. Education: Homelessness can have a significant impact on a child's education. Children experiencing\\n   homelessness are more likely to miss school, experience learning delays, and drop out of school altogether.\\n4. Employment: Homelessness can make it challenging for individuals to obtain and maintain employment.\\n   Without a stable address or access to transportation, it can be difficult to get to work or attend\\n   job training programs.\\n5. Family Relationships: Homelessness can strain family relationships, particularly when families are\\n   separated due to a lack of affordable housing. Children may be placed in foster care or with \\n   relatives, further complicating the family dynamic.\\n6. Criminal Justice Involvement: People experiencing homelessness are more likely to become involved \\n   with the criminal justice system, either as a result of criminal behavior or due to laws \\n   criminalizing homelessness.\", metadata={'source': './homelessness.txt'}),\n",
       " Document(page_content='In conclusion, homelessness is a complex social issue with many causes and effects. Addressing \\nhomelessness requires a multifaceted approach that includes increasing access to affordable housing, \\nimproving support services for people with mental health and substance abuse issues, and promoting \\npolicies that address poverty and inequality. Additionally, providing education and training \\nopportunities, access to healthcare, and community support can help individuals experiencing \\nhomelessness regain their footing and achieve long-term stability. By addressing the root causes of \\nhomelessness and its effects, we can work towards creating a more just and equitable society where \\neveryone has access to safe and stable housing.', metadata={'source': './homelessness.txt'})]"
      ]
     },
     "execution_count": 3,
     "metadata": {},
     "output_type": "execute_result"
    }
   ],
   "source": [
    "loader = TextLoader('./homelessness.txt')\n",
    "docs = loader.load()\n",
    "char_text_splitter=CharacterTextSplitter(chunk_size=1000,chunk_overlap=0)\n",
    "doc_texts=char_text_splitter.split_documents(docs)\n",
    "doc_texts"
   ]
  },
  {
   "attachments": {},
   "cell_type": "markdown",
   "metadata": {},
   "source": [
    "#### Preparing pinecone db"
   ]
  },
  {
   "cell_type": "code",
   "execution_count": 4,
   "metadata": {},
   "outputs": [
    {
     "name": "stderr",
     "output_type": "stream",
     "text": [
      "/Users/piyush/Desktop/work/openai-encoding-pinecone-demo/venv/lib/python3.11/site-packages/pinecone/index.py:4: TqdmWarning: IProgress not found. Please update jupyter and ipywidgets. See https://ipywidgets.readthedocs.io/en/stable/user_install.html\n",
      "  from tqdm.autonotebook import tqdm\n"
     ]
    }
   ],
   "source": [
    "from langchain.vectorstores import pinecone\n",
    "from langchain.embeddings.openai import OpenAIEmbeddings\n",
    "import pinecone"
   ]
  },
  {
   "cell_type": "code",
   "execution_count": 5,
   "metadata": {},
   "outputs": [],
   "source": [
    "EMBEDDING_MODEL=\"text-embedding-ada-002\"\n",
    "embeddings = OpenAIEmbeddings(openai_api_key=os.environ[\"OPENAI_API_KEY\"])"
   ]
  },
  {
   "cell_type": "code",
   "execution_count": 6,
   "metadata": {},
   "outputs": [],
   "source": [
    "pinecone.init(\n",
    "    api_key=os.environ[\"PINECONE_API_KEY\"],\n",
    "    environment=os.environ[\"PINECONE_ENVIRONMENT\"]\n",
    ")\n",
    "\n",
    "index_name=\"homelessness\"\n"
   ]
  },
  {
   "cell_type": "code",
   "execution_count": 7,
   "metadata": {},
   "outputs": [
    {
     "data": {
      "text/plain": [
       "{'dimension': 1536,\n",
       " 'index_fullness': 0.0,\n",
       " 'namespaces': {'': {'vector_count': 20}},\n",
       " 'total_vector_count': 20}"
      ]
     },
     "execution_count": 7,
     "metadata": {},
     "output_type": "execute_result"
    }
   ],
   "source": [
    "index = pinecone.Index(index_name)\n",
    "index.describe_index_stats()"
   ]
  },
  {
   "attachments": {},
   "cell_type": "markdown",
   "metadata": {},
   "source": [
    "### push vector data into pinecone"
   ]
  },
  {
   "cell_type": "code",
   "execution_count": 8,
   "metadata": {},
   "outputs": [],
   "source": [
    "doc_store = Pinecone.from_texts([d.page_content for d in doc_texts],embedding=embeddings,index_name=index_name)"
   ]
  },
  {
   "attachments": {},
   "cell_type": "markdown",
   "metadata": {},
   "source": [
    "#### Query from doc_store"
   ]
  },
  {
   "attachments": {},
   "cell_type": "markdown",
   "metadata": {},
   "source": [
    "find context from doc_store with similar cosines"
   ]
  },
  {
   "cell_type": "code",
   "execution_count": 9,
   "metadata": {},
   "outputs": [
    {
     "ename": "KeyError",
     "evalue": "'text'",
     "output_type": "error",
     "traceback": [
      "\u001b[0;31m---------------------------------------------------------------------------\u001b[0m",
      "\u001b[0;31mKeyError\u001b[0m                                  Traceback (most recent call last)",
      "Cell \u001b[0;32mIn[9], line 2\u001b[0m\n\u001b[1;32m      1\u001b[0m query\u001b[39m=\u001b[39m\u001b[39m\"\u001b[39m\u001b[39mwhat is life?\u001b[39m\u001b[39m\"\u001b[39m\n\u001b[0;32m----> 2\u001b[0m docs \u001b[39m=\u001b[39m doc_store\u001b[39m.\u001b[39;49msimilarity_search(query)\n\u001b[1;32m      3\u001b[0m docs\n",
      "File \u001b[0;32m~/Desktop/work/openai-encoding-pinecone-demo/venv/lib/python3.11/site-packages/langchain/vectorstores/pinecone.py:159\u001b[0m, in \u001b[0;36mPinecone.similarity_search\u001b[0;34m(self, query, k, filter, namespace, **kwargs)\u001b[0m\n\u001b[1;32m    157\u001b[0m \u001b[39mfor\u001b[39;00m res \u001b[39min\u001b[39;00m results[\u001b[39m\"\u001b[39m\u001b[39mmatches\u001b[39m\u001b[39m\"\u001b[39m]:\n\u001b[1;32m    158\u001b[0m     metadata \u001b[39m=\u001b[39m res[\u001b[39m\"\u001b[39m\u001b[39mmetadata\u001b[39m\u001b[39m\"\u001b[39m]\n\u001b[0;32m--> 159\u001b[0m     text \u001b[39m=\u001b[39m metadata\u001b[39m.\u001b[39;49mpop(\u001b[39mself\u001b[39;49m\u001b[39m.\u001b[39;49m_text_key)\n\u001b[1;32m    160\u001b[0m     docs\u001b[39m.\u001b[39mappend(Document(page_content\u001b[39m=\u001b[39mtext, metadata\u001b[39m=\u001b[39mmetadata))\n\u001b[1;32m    161\u001b[0m \u001b[39mreturn\u001b[39;00m docs\n",
      "\u001b[0;31mKeyError\u001b[0m: 'text'"
     ]
    }
   ],
   "source": [
    "query=\"what is life?\"\n",
    "docs = doc_store.similarity_search(query)\n",
    "docs"
   ]
  },
  {
   "attachments": {},
   "cell_type": "markdown",
   "metadata": {},
   "source": [
    "answer query using contexts"
   ]
  },
  {
   "cell_type": "code",
   "execution_count": null,
   "metadata": {},
   "outputs": [],
   "source": [
    "from langchain.chains.question_answering import load_qa_chain\n",
    "llm = OpenAI(temperature=0, openai_api_key=os.environ[\"OPENAI_API_KEY\"])\n",
    "\n",
    "qa_chain = load_qa_chain(llm, chain_type=\"stuff\")\n",
    "\n",
    "\n",
    "qa_chain.run(input_documents=docs, question=query)"
   ]
  }
 ],
 "metadata": {
  "kernelspec": {
   "display_name": "venv",
   "language": "python",
   "name": "python3"
  },
  "language_info": {
   "codemirror_mode": {
    "name": "ipython",
    "version": 3
   },
   "file_extension": ".py",
   "mimetype": "text/x-python",
   "name": "python",
   "nbconvert_exporter": "python",
   "pygments_lexer": "ipython3",
   "version": "3.11.3"
  },
  "orig_nbformat": 4
 },
 "nbformat": 4,
 "nbformat_minor": 2
}
